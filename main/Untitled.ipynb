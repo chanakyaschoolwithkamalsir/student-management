{
 "cells": [
  {
   "cell_type": "code",
   "execution_count": 1,
   "metadata": {},
   "outputs": [
    {
     "data": {
      "text/html": [
       "<style>.container { width:100% !important; }</style>"
      ],
      "text/plain": [
       "<IPython.core.display.HTML object>"
      ]
     },
     "metadata": {},
     "output_type": "display_data"
    }
   ],
   "source": [
    "from IPython.core.display import display, HTML\n",
    "display(HTML(\"<style>.container { width:100% !important; }</style>\"))"
   ]
  },
  {
   "cell_type": "code",
   "execution_count": 2,
   "metadata": {},
   "outputs": [],
   "source": [
    "import pandas as pd"
   ]
  },
  {
   "cell_type": "code",
   "execution_count": 11,
   "metadata": {},
   "outputs": [],
   "source": [
    "df = pd.DataFrame({'name':['jayesh', 'kamal', 'mamta'],\n",
    "                  'gender': ['Male', 'Male', 'Female'],\n",
    "                  'mob':['9825957887', '9662345612', '9662345612'],\n",
    "                  'course':['12th Gujarati Medium', '12th English Medium', '12th Gujarati Medium'],\n",
    "                  'dob':['08/09/1997', '08/07/1993', '11/13/1998']})"
   ]
  },
  {
   "cell_type": "code",
   "execution_count": 12,
   "metadata": {},
   "outputs": [
    {
     "data": {
      "text/html": [
       "<div>\n",
       "<style scoped>\n",
       "    .dataframe tbody tr th:only-of-type {\n",
       "        vertical-align: middle;\n",
       "    }\n",
       "\n",
       "    .dataframe tbody tr th {\n",
       "        vertical-align: top;\n",
       "    }\n",
       "\n",
       "    .dataframe thead th {\n",
       "        text-align: right;\n",
       "    }\n",
       "</style>\n",
       "<table border=\"1\" class=\"dataframe\">\n",
       "  <thead>\n",
       "    <tr style=\"text-align: right;\">\n",
       "      <th></th>\n",
       "      <th>name</th>\n",
       "      <th>gender</th>\n",
       "      <th>mob</th>\n",
       "      <th>course</th>\n",
       "      <th>dob</th>\n",
       "    </tr>\n",
       "  </thead>\n",
       "  <tbody>\n",
       "    <tr>\n",
       "      <th>0</th>\n",
       "      <td>jayesh</td>\n",
       "      <td>Male</td>\n",
       "      <td>9825957887</td>\n",
       "      <td>12th Gujarati Medium</td>\n",
       "      <td>08/09/1997</td>\n",
       "    </tr>\n",
       "    <tr>\n",
       "      <th>1</th>\n",
       "      <td>kamal</td>\n",
       "      <td>Male</td>\n",
       "      <td>9662345612</td>\n",
       "      <td>12th English Medium</td>\n",
       "      <td>08/07/1993</td>\n",
       "    </tr>\n",
       "    <tr>\n",
       "      <th>2</th>\n",
       "      <td>mamta</td>\n",
       "      <td>Female</td>\n",
       "      <td>9662345612</td>\n",
       "      <td>12th Gujarati Medium</td>\n",
       "      <td>11/13/1998</td>\n",
       "    </tr>\n",
       "  </tbody>\n",
       "</table>\n",
       "</div>"
      ],
      "text/plain": [
       "     name  gender         mob                course         dob\n",
       "0  jayesh    Male  9825957887  12th Gujarati Medium  08/09/1997\n",
       "1   kamal    Male  9662345612   12th English Medium  08/07/1993\n",
       "2   mamta  Female  9662345612  12th Gujarati Medium  11/13/1998"
      ]
     },
     "execution_count": 12,
     "metadata": {},
     "output_type": "execute_result"
    }
   ],
   "source": [
    "df"
   ]
  },
  {
   "cell_type": "code",
   "execution_count": 13,
   "metadata": {},
   "outputs": [
    {
     "name": "stderr",
     "output_type": "stream",
     "text": [
      "C:\\Users\\jayesh.prajapati\\AppData\\Local\\Continuum\\anaconda3\\lib\\site-packages\\ipykernel_launcher.py:6: DeprecationWarning: executable_path has been deprecated, please pass in a Service object\n",
      "  \n",
      "C:\\Users\\jayesh.prajapati\\AppData\\Local\\Continuum\\anaconda3\\lib\\site-packages\\ipykernel_launcher.py:16: DeprecationWarning: find_element_by_name is deprecated. Please use find_element(by=By.NAME, value=name) instead\n",
      "  app.launch_new_instance()\n",
      "C:\\Users\\jayesh.prajapati\\AppData\\Local\\Continuum\\anaconda3\\lib\\site-packages\\ipykernel_launcher.py:19: DeprecationWarning: find_element_by_name is deprecated. Please use find_element(by=By.NAME, value=name) instead\n",
      "C:\\Users\\jayesh.prajapati\\AppData\\Local\\Continuum\\anaconda3\\lib\\site-packages\\ipykernel_launcher.py:22: DeprecationWarning: find_element_by_name is deprecated. Please use find_element(by=By.NAME, value=name) instead\n",
      "C:\\Users\\jayesh.prajapati\\AppData\\Local\\Continuum\\anaconda3\\lib\\site-packages\\ipykernel_launcher.py:25: DeprecationWarning: find_element_by_name is deprecated. Please use find_element(by=By.NAME, value=name) instead\n",
      "C:\\Users\\jayesh.prajapati\\AppData\\Local\\Continuum\\anaconda3\\lib\\site-packages\\ipykernel_launcher.py:28: DeprecationWarning: find_element_by_name is deprecated. Please use find_element(by=By.NAME, value=name) instead\n",
      "C:\\Users\\jayesh.prajapati\\AppData\\Local\\Continuum\\anaconda3\\lib\\site-packages\\ipykernel_launcher.py:33: DeprecationWarning: find_element_by_name is deprecated. Please use find_element(by=By.NAME, value=name) instead\n"
     ]
    }
   ],
   "source": [
    "from selenium import webdriver\n",
    "from webdriver_manager.chrome import ChromeDriverManager\n",
    "options = webdriver.ChromeOptions()\n",
    "options.accept_insecure_certs = True\n",
    "\n",
    "driver = webdriver.Chrome(ChromeDriverManager().install(), options=options)\n",
    "\n",
    "url = \"http://127.0.0.1:8000/admin_panel/add_student/\"\n",
    "driver.get(url)\n",
    "\n",
    "# driver.quit()\n",
    "find_element = {'name':'full_name', 'mob':'contact_number', 'gender':'gender', 'cource':'cource', 'dob':'dob', 'course':'course'}\n",
    "\n",
    "for record in df.to_dict('records'):\n",
    "\n",
    "    input_name = driver.find_element_by_name(find_element['name'])\n",
    "    input_name.send_keys(record['name'])\n",
    "\n",
    "    input_name = driver.find_element_by_name(find_element['mob'])\n",
    "    input_name.send_keys(record['mob'])\n",
    "\n",
    "    input_name = driver.find_element_by_name(find_element[\"dob\"])\n",
    "    input_name.send_keys(record[\"dob\"])\n",
    "\n",
    "    input_name = driver.find_element_by_name(find_element[\"gender\"])\n",
    "    input_name.send_keys(record[\"gender\"])\n",
    "    \n",
    "    input_name = driver.find_element_by_name(find_element[\"course\"])\n",
    "    input_name.send_keys(record[\"course\"])\n",
    "    \n",
    "#     input_name = driver.find_element_by_name(\"stu_user_name\")\n",
    "#     input_name.send_keys()\n",
    "    submit_button = driver.find_element_by_name(\"add_student\")\n",
    "    submit_button.submit()"
   ]
  },
  {
   "cell_type": "code",
   "execution_count": null,
   "metadata": {},
   "outputs": [],
   "source": []
  }
 ],
 "metadata": {
  "kernelspec": {
   "display_name": "Python 3",
   "language": "python",
   "name": "python3"
  },
  "language_info": {
   "codemirror_mode": {
    "name": "ipython",
    "version": 3
   },
   "file_extension": ".py",
   "mimetype": "text/x-python",
   "name": "python",
   "nbconvert_exporter": "python",
   "pygments_lexer": "ipython3",
   "version": "3.7.4"
  }
 },
 "nbformat": 4,
 "nbformat_minor": 2
}
